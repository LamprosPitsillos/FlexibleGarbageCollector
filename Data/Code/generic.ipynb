{
 "cells": [
  {
   "cell_type": "code",
   "execution_count": 1,
   "metadata": {},
   "outputs": [],
   "source": [
    "import pandas as pd\n",
    "import numpy as np\n",
    "from matplotlib import pyplot as plt\n",
    "plt.style.use('ggplot')"
   ]
  },
  {
   "cell_type": "code",
   "execution_count": null,
   "metadata": {},
   "outputs": [],
   "source": [
    "PATH = '../Logs/instant_vs_late_test/'\n",
    "filenames = [\n",
    "    'instant_vs_late_test_Counting_Instant_BFS.csv', \n",
    "    'instant_vs_late_test_Counting_Late_BFS.csv'\n",
    "]\n",
    "plt.rcParams.update({'font.size': 18})\n",
    "fig = plt.figure(figsize=(8*len(filenames), 5), facecolor='white')\n",
    "gs = fig.add_gridspec(1,len(filenames))\n",
    "data = [pd.read_csv(PATH + filename) for filename in filenames]\n",
    "ax = None\n",
    "for i, df in enumerate(data):\n",
    "    ax = fig.add_subplot(gs[:, i])\n",
    "    df['Timestamp'] = df['Dt (μs)'].cumsum()\n",
    "    df['Normalized Timestamp'] = df['Timestamp'] / df['Timestamp'].iloc[-1]\n",
    "    ax = df.plot(x='Normalized Timestamp', y='HeapSize (items)',\n",
    "                 ax=ax, linewidth=4, fontsize=18)\n",
    "    plt.ylabel('Heap Size (items)')\n",
    "    plt.legend(loc='upper left')\n",
    "plt.tight_layout()\n",
    "plt.show()"
   ]
  }
 ],
 "metadata": {
  "kernelspec": {
   "display_name": "Python 3",
   "language": "python",
   "name": "python3"
  },
  "language_info": {
   "codemirror_mode": {
    "name": "ipython",
    "version": 3
   },
   "file_extension": ".py",
   "mimetype": "text/x-python",
   "name": "python",
   "nbconvert_exporter": "python",
   "pygments_lexer": "ipython3",
   "version": "3.10.6"
  },
  "orig_nbformat": 4
 },
 "nbformat": 4,
 "nbformat_minor": 2
}
